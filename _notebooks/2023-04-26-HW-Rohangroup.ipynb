{
 "cells": [
  {
   "cell_type": "code",
   "execution_count": 2,
   "metadata": {
    "vscode": {
     "languageId": "java"
    }
   },
   "outputs": [
    {
     "name": "stdout",
     "output_type": "stream",
     "text": [
      "Current Seating Chart:\n",
      "Alice\t\t\t\t\t\n",
      "\t\tBob\t\t\t\n",
      "\t\t\tCharlie\t\t\n",
      "\tDavid\t\t\t\t\n",
      "Current Seating Chart:\n",
      "\tBob\t\t\tCharlie\t\n",
      "\t\t\t\t\t\n",
      "\t\t\t\tAlice\t\n",
      "\t\tDavid\t\t\t\n",
      "Current Seating Chart:\n",
      "\tBob\t\t\tCharlie\t\n",
      "\t\tEve\t\t\t\n",
      "\t\t\t\tAlice\t\n",
      "\t\tDavid\t\t\t\n"
     ]
    }
   ],
   "source": [
    "import java.util.Arrays;\n",
    "import java.util.Random;\n",
    "\n",
    "public class SeatingChart {\n",
    "    private String[][] seats;\n",
    "\n",
    "    // Constructor that initializes the seating chart with empty seats\n",
    "    public SeatingChart(int numRows, int numCols) {\n",
    "        seats = new String[numRows][numCols];\n",
    "        for (int i = 0; i < numRows; i++) {\n",
    "            Arrays.fill(seats[i], \"\");\n",
    "        }\n",
    "    }\n",
    "\n",
    "    // Method to print the current seating chart\n",
    "    public void printChart() {\n",
    "        System.out.println(\"Current Seating Chart:\");\n",
    "        for (int i = 0; i < seats.length; i++) {\n",
    "            for (int j = 0; j < seats[i].length; j++) {\n",
    "                System.out.print(seats[i][j] + \"\\t\");\n",
    "            }\n",
    "            System.out.println();\n",
    "        }\n",
    "    }\n",
    "\n",
    "    // Method to add a person to a specific seat\n",
    "    public void addPerson(String name, int row, int col) {\n",
    "        seats[row][col] = name;\n",
    "    }\n",
    "\n",
    "    // Method to shuffle the seats randomly\n",
    "    public void shuffleSeats() {\n",
    "        Random rand = new Random();\n",
    "        for (int i = 0; i < seats.length; i++) {\n",
    "            for (int j = 0; j < seats[i].length; j++) {\n",
    "                int randRow = rand.nextInt(seats.length);\n",
    "                int randCol = rand.nextInt(seats[i].length);\n",
    "                String temp = seats[i][j];\n",
    "                seats[i][j] = seats[randRow][randCol];\n",
    "                seats[randRow][randCol] = temp;\n",
    "            }\n",
    "        }\n",
    "    }\n",
    "\n",
    "    // Method to replace a person in a specific seat\n",
    "    public void replacePerson(String newName, int row, int col) {\n",
    "        seats[row][col] = newName;\n",
    "    }\n",
    "\n",
    "    public static void main(String[] args) {\n",
    "        SeatingChart chart = new SeatingChart(4, 5); // Create a 4x5 seating chart\n",
    "        chart.addPerson(\"Alice\", 0, 0);\n",
    "        chart.addPerson(\"Bob\", 1, 2);\n",
    "        chart.addPerson(\"Charlie\", 2, 3);\n",
    "        chart.addPerson(\"David\", 3, 1);\n",
    "        chart.printChart();\n",
    "        chart.shuffleSeats();\n",
    "        chart.printChart();\n",
    "        chart.replacePerson(\"Eve\", 1, 2);\n",
    "        chart.printChart();\n",
    "    }\n",
    "}\n",
    "SeatingChart.main(null);"
   ]
  },
  {
   "cell_type": "markdown",
   "metadata": {},
   "source": [
    "# Hack 1"
   ]
  },
  {
   "cell_type": "code",
   "execution_count": null,
   "metadata": {
    "vscode": {
     "languageId": "java"
    }
   },
   "outputs": [],
   "source": [
    "//create ArrayLists that satisfy the following\n",
    "// a) that stores Boolean values\n",
    "ArrayList<Boolean> boolList = new ArrayList<Boolean>();\n",
    "// b) that stores Turtle Objects\n",
    "ArrayList<Turtle> turtleList = new ArrayList<Turtle>();\n",
    "// c) that initializes with 10 Strings\n",
    "ArrayList<String> stringList = new ArrayList<String>(Arrays.asList(\"one\", \"two\", \"three\", \"four\", \"five\", \"six\", \"seven\", \"eight\", \"nine\", \"ten\"));"
   ]
  },
  {
   "cell_type": "markdown",
   "metadata": {},
   "source": [
    "# Hack 2"
   ]
  },
  {
   "cell_type": "code",
   "execution_count": 1,
   "metadata": {
    "vscode": {
     "languageId": "java"
    }
   },
   "outputs": [
    {
     "name": "stdout",
     "output_type": "stream",
     "text": [
      "ArrayList: [1, 4, 7, 12, 23]\n"
     ]
    }
   ],
   "source": [
    "import java.util.ArrayList;\n",
    "\n",
    "public class Hack2 {\n",
    "    public static void main(Integer[] args) {\n",
    "        ArrayList<Integer> randomNumbers = new ArrayList<Integer>();\n",
    "        randomNumbers.add(1);\n",
    "        randomNumbers.add(4);\n",
    "        randomNumbers.add(7);\n",
    "        randomNumbers.add(12);\n",
    "        randomNumbers.add(23);\n",
    "        System.out.println(\"ArrayList: \" + randomNumbers);\n",
    "\n",
    "        ;\n",
    "        ;\n",
    "        ;\n",
    "    }\n",
    "}\n",
    "Hack2.main(null);"
   ]
  },
  {
   "cell_type": "markdown",
   "metadata": {},
   "source": [
    "# Hack 3"
   ]
  },
  {
   "cell_type": "code",
   "execution_count": 2,
   "metadata": {
    "vscode": {
     "languageId": "java"
    }
   },
   "outputs": [
    {
     "name": "stdout",
     "output_type": "stream",
     "text": [
      "ArrayList: [1, 4, 7, 12, 23]\n",
      "Total: 47\n"
     ]
    }
   ],
   "source": [
    "public class Hack3 {\n",
    "    public static void main(String[] args) {\n",
    "        ArrayList<Integer> values = new ArrayList<Integer>();\n",
    "        values.add(1);\n",
    "        values.add(4);\n",
    "        values.add(7);\n",
    "        values.add(12);\n",
    "        values.add(23);\n",
    "        System.out.println(\"ArrayList: \" + values);\n",
    "\n",
    "        int total = 0;\n",
    "\n",
    "        for (int i=0; i < values.size(); i++) {\n",
    "            total += values.get(i);\n",
    "        }\n",
    "\n",
    "        System.out.println(\"Total: \" + total);\n",
    "    }\n",
    "}\n",
    "\n",
    "Hack3.main(null);"
   ]
  },
  {
   "cell_type": "markdown",
   "metadata": {},
   "source": [
    "# Hack 4"
   ]
  },
  {
   "cell_type": "code",
   "execution_count": 3,
   "metadata": {
    "vscode": {
     "languageId": "java"
    }
   },
   "outputs": [
    {
     "name": "stdout",
     "output_type": "stream",
     "text": [
      "11 12 22 25 64 "
     ]
    }
   ],
   "source": [
    "public class SelectionSort {\n",
    "    public static void main(String[] args) {\n",
    "        int[] arr = {64, 25, 12, 22, 11};\n",
    "        for (int i = 0; i < arr.length; i++) {\n",
    "            for (int j = i + 1; j < arr.length; j++) {\n",
    "                if (arr[j] < arr[i]) {\n",
    "                    // Swap the elements\n",
    "                    int temp = arr[i];\n",
    "                    arr[i] = arr[j];\n",
    "                    arr[j] = temp;\n",
    "                }\n",
    "            }\n",
    "            System.out.print(arr[i] + \" \");\n",
    "        }\n",
    "    }\n",
    "}\n",
    "\n",
    "SelectionSort.main(null);"
   ]
  },
  {
   "cell_type": "markdown",
   "metadata": {},
   "source": [
    "# Hack 5"
   ]
  },
  {
   "cell_type": "code",
   "execution_count": 4,
   "metadata": {
    "vscode": {
     "languageId": "java"
    }
   },
   "outputs": [
    {
     "name": "stdout",
     "output_type": "stream",
     "text": [
      "Elements with even indexes:\n",
      "1 3 5 7 9 \n",
      "Elements with odd indexes:\n",
      "2 4 6 8 10 \n"
     ]
    }
   ],
   "source": [
    "public class ArrayIndexingExample {\n",
    "    public static void main(String[] args) {\n",
    "        int[] arr = { 1, 2, 3, 4, 5, 6, 7, 8, 9, 10 };\n",
    "\n",
    "        System.out.println(\"Elements with even indexes:\");\n",
    "        for (int i = 0; i < arr.length; i += 2) {\n",
    "            System.out.print(arr[i] + \" \");\n",
    "        }\n",
    "        System.out.println();\n",
    "\n",
    "        System.out.println(\"Elements with odd indexes:\");\n",
    "        for (int i = 1; i < arr.length; i += 2) {\n",
    "            System.out.print(arr[i] + \" \");\n",
    "        }\n",
    "        System.out.println();\n",
    "    }\n",
    "}\n",
    "ArrayIndexingExample.main(null);"
   ]
  },
  {
   "cell_type": "markdown",
   "metadata": {},
   "source": [
    "# Hack 7"
   ]
  },
  {
   "cell_type": "code",
   "execution_count": 5,
   "metadata": {
    "vscode": {
     "languageId": "java"
    }
   },
   "outputs": [
    {
     "name": "stdout",
     "output_type": "stream",
     "text": [
      "Sum of diagonal elements: 5\n"
     ]
    }
   ],
   "source": [
    "public class Test1 {\n",
    "    public static void main(String[] args) {\n",
    "        int[][] array = { {1,2,3},{-1,-2,-3},{4,5,6} };\n",
    "        int sum = 0;\n",
    "\n",
    "        // Iterate over the diagonal of the array\n",
    "        for (int i = 0; i < array.length; i++) {\n",
    "            sum += array[i][i];\n",
    "        }\n",
    "\n",
    "        System.out.println(\"Sum of diagonal elements: \" + sum);\n",
    "    }\n",
    "}\n",
    "\n",
    "Test1.main(null);"
   ]
  },
  {
   "cell_type": "markdown",
   "metadata": {},
   "source": [
    "# Extra Credit"
   ]
  },
  {
   "cell_type": "code",
   "execution_count": 3,
   "metadata": {
    "vscode": {
     "languageId": "java"
    }
   },
   "outputs": [],
   "source": [
    "// FRQ Array Lists\n",
    "//Part a\n",
    "class MemberInfo {\n",
    "    private String name;\n",
    "    private int gradYear;\n",
    "    private boolean goodStanding;\n",
    "\n",
    "    public MemberInfo(String name, int gradYear, boolean goodStanding) {\n",
    "        this.name = name;\n",
    "        this.gradYear = gradYear;\n",
    "        this.goodStanding = goodStanding;\n",
    "    }\n",
    "\n",
    "    public int getGradYear() {\n",
    "        return gradYear;\n",
    "    }\n",
    "\n",
    "    public boolean inGoodStanding() {\n",
    "        return goodStanding;\n",
    "    }\n",
    "\n",
    "    public String getMemberName() {\n",
    "        return name;\n",
    "    }\n",
    "}"
   ]
  },
  {
   "cell_type": "code",
   "execution_count": 4,
   "metadata": {
    "vscode": {
     "languageId": "java"
    }
   },
   "outputs": [
    {
     "name": "stdout",
     "output_type": "stream",
     "text": [
      "Removed members who graduated in 2024:\n",
      "2024: John\n",
      "2024: Emily\n",
      "2024: David\n"
     ]
    }
   ],
   "source": [
    "//Part B\n",
    "import java.util.ArrayList;\n",
    "\n",
    "public class ClubMembers {\n",
    "    private ArrayList<MemberInfo> memberList;\n",
    "\n",
    "    public ClubMembers() {\n",
    "        memberList = new ArrayList<>();\n",
    "    }\n",
    "\n",
    "    /**\n",
    "     * Adds new club members to memberList.\n",
    "     * Precondition: names is a non-empty array.\n",
    "     */\n",
    "    public void addMembers(String[] names, int gradYear) {\n",
    "        for (String name : names) {\n",
    "            MemberInfo member = new MemberInfo(name, gradYear, true);\n",
    "            memberList.add(member);\n",
    "        }\n",
    "    }\n",
    "\n",
    "    /**\n",
    "     * Removes members who have graduated and returns a list of members who have\n",
    "     * graduated and are in good standing.\n",
    "     */\n",
    "    public ArrayList<MemberInfo> removeMembers(int year) {\n",
    "        ArrayList<MemberInfo> graduatedMembers = new ArrayList<>();\n",
    "        for (int i = 0; i < memberList.size(); i++) {\n",
    "            MemberInfo member = memberList.get(i);\n",
    "            if (member.getGradYear() == year && member.inGoodStanding()) {\n",
    "                graduatedMembers.add(member);\n",
    "                memberList.remove(i);\n",
    "                i--; // Decrement the index as the list size has changed\n",
    "            }\n",
    "        }\n",
    "        return graduatedMembers;\n",
    "    }\n",
    "\n",
    "    // Tester method\n",
    "    public static void main(String[] args) {\n",
    "        ClubMembers club = new ClubMembers();\n",
    "\n",
    "        // Adding members\n",
    "        String[] names = {\"John\", \"Emily\", \"David\"};\n",
    "        int gradYear = 2024;\n",
    "        club.addMembers(names, gradYear);\n",
    "\n",
    "        // Removing members who graduated in a specific year\n",
    "        int yearToRemove = 2024;\n",
    "        ArrayList<MemberInfo> removedMembers = club.removeMembers(yearToRemove);\n",
    "\n",
    "        // Displaying removed members\n",
    "        System.out.println(\"Removed members who graduated in \" + yearToRemove + \":\");\n",
    "        for (MemberInfo member : removedMembers) {\n",
    "            System.out.println(member.getGradYear() + \": \" + member.getMemberName());\n",
    "        }\n",
    "    }\n",
    "}\n",
    "\n",
    "ClubMembers.main(null);"
   ]
  }
 ],
 "metadata": {
  "kernelspec": {
   "display_name": "Java",
   "language": "java",
   "name": "java"
  },
  "language_info": {
   "codemirror_mode": "java",
   "file_extension": ".jshell",
   "mimetype": "text/x-java-source",
   "name": "Java",
   "pygments_lexer": "java",
   "version": "18.0.2+0"
  },
  "orig_nbformat": 4
 },
 "nbformat": 4,
 "nbformat_minor": 2
}
