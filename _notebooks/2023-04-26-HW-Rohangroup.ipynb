{
 "cells": [
  {
   "cell_type": "code",
   "execution_count": 2,
   "metadata": {
    "vscode": {
     "languageId": "java"
    }
   },
   "outputs": [
    {
     "name": "stdout",
     "output_type": "stream",
     "text": [
      "Current Seating Chart:\n",
      "Alice\t\t\t\t\t\n",
      "\t\tBob\t\t\t\n",
      "\t\t\tCharlie\t\t\n",
      "\tDavid\t\t\t\t\n",
      "Current Seating Chart:\n",
      "\tBob\t\t\tCharlie\t\n",
      "\t\t\t\t\t\n",
      "\t\t\t\tAlice\t\n",
      "\t\tDavid\t\t\t\n",
      "Current Seating Chart:\n",
      "\tBob\t\t\tCharlie\t\n",
      "\t\tEve\t\t\t\n",
      "\t\t\t\tAlice\t\n",
      "\t\tDavid\t\t\t\n"
     ]
    }
   ],
   "source": [
    "import java.util.Arrays;\n",
    "import java.util.Random;\n",
    "\n",
    "public class SeatingChart {\n",
    "    private String[][] seats;\n",
    "\n",
    "    // Constructor that initializes the seating chart with empty seats\n",
    "    public SeatingChart(int numRows, int numCols) {\n",
    "        seats = new String[numRows][numCols];\n",
    "        for (int i = 0; i < numRows; i++) {\n",
    "            Arrays.fill(seats[i], \"\");\n",
    "        }\n",
    "    }\n",
    "\n",
    "    // Method to print the current seating chart\n",
    "    public void printChart() {\n",
    "        System.out.println(\"Current Seating Chart:\");\n",
    "        for (int i = 0; i < seats.length; i++) {\n",
    "            for (int j = 0; j < seats[i].length; j++) {\n",
    "                System.out.print(seats[i][j] + \"\\t\");\n",
    "            }\n",
    "            System.out.println();\n",
    "        }\n",
    "    }\n",
    "\n",
    "    // Method to add a person to a specific seat\n",
    "    public void addPerson(String name, int row, int col) {\n",
    "        seats[row][col] = name;\n",
    "    }\n",
    "\n",
    "    // Method to shuffle the seats randomly\n",
    "    public void shuffleSeats() {\n",
    "        Random rand = new Random();\n",
    "        for (int i = 0; i < seats.length; i++) {\n",
    "            for (int j = 0; j < seats[i].length; j++) {\n",
    "                int randRow = rand.nextInt(seats.length);\n",
    "                int randCol = rand.nextInt(seats[i].length);\n",
    "                String temp = seats[i][j];\n",
    "                seats[i][j] = seats[randRow][randCol];\n",
    "                seats[randRow][randCol] = temp;\n",
    "            }\n",
    "        }\n",
    "    }\n",
    "\n",
    "    // Method to replace a person in a specific seat\n",
    "    public void replacePerson(String newName, int row, int col) {\n",
    "        seats[row][col] = newName;\n",
    "    }\n",
    "\n",
    "    public static void main(String[] args) {\n",
    "        SeatingChart chart = new SeatingChart(4, 5); // Create a 4x5 seating chart\n",
    "        chart.addPerson(\"Alice\", 0, 0);\n",
    "        chart.addPerson(\"Bob\", 1, 2);\n",
    "        chart.addPerson(\"Charlie\", 2, 3);\n",
    "        chart.addPerson(\"David\", 3, 1);\n",
    "        chart.printChart();\n",
    "        chart.shuffleSeats();\n",
    "        chart.printChart();\n",
    "        chart.replacePerson(\"Eve\", 1, 2);\n",
    "        chart.printChart();\n",
    "    }\n",
    "}\n",
    "SeatingChart.main(null);"
   ]
  }
 ],
 "metadata": {
  "kernelspec": {
   "display_name": "Java",
   "language": "java",
   "name": "java"
  },
  "language_info": {
   "codemirror_mode": "java",
   "file_extension": ".jshell",
   "mimetype": "text/x-java-source",
   "name": "Java",
   "pygments_lexer": "java",
   "version": "18.0.2+0"
  },
  "orig_nbformat": 4
 },
 "nbformat": 4,
 "nbformat_minor": 2
}
