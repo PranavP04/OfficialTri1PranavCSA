{
 "cells": [
  {
   "cell_type": "markdown",
   "metadata": {},
   "source": [
    "# Fibonacci"
   ]
  },
  {
   "cell_type": "markdown",
   "metadata": {},
   "source": [
    "## Fibonacci For Loop"
   ]
  },
  {
   "cell_type": "code",
   "execution_count": 7,
   "metadata": {
    "vscode": {
     "languageId": "java"
    }
   },
   "outputs": [
    {
     "name": "stdout",
     "output_type": "stream",
     "text": [
      "Fibonacci Series of 12 numbers:0 1 1 2 3 5 8 13 21 34 55 89 "
     ]
    }
   ],
   "source": [
    "\n",
    "public class fibonacciForLoop {\n",
    " \n",
    "\tpublic static void main(String[] args) \n",
    "\t{\n",
    "\t\t// Using this, will allow for you to enter as many digits/elements you want in you fibonacci series\n",
    "\t\t int greatestValue = 12; \n",
    "\t\t int smallestValue = 0;\n",
    "\t\t int nextValue = 1;\n",
    "\t\t \n",
    "\t        System.out.print(\"Fibonacci Series of \"+greatestValue+\" numbers:\");\n",
    " \n",
    "\t        for (int i = 1; i <= greatestValue; ++i)\n",
    "\t        {\n",
    "\t            System.out.print(smallestValue+\" \");\n",
    "\t            /* On each iteration, we are assigning second number to the first number and assigning the sum of last two numbers to the second number */\n",
    " \n",
    "\t      \n",
    "\t            int sum = smallestValue + nextValue;\n",
    "\t            smallestValue = nextValue;\n",
    "\t            nextValue = sum;\n",
    "\t        }\n",
    "\t}\n",
    "}\n",
    "fibonacciForLoop.main(null);"
   ]
  },
  {
   "cell_type": "markdown",
   "metadata": {},
   "source": [
    "## Fibonacci While Loop"
   ]
  },
  {
   "cell_type": "code",
   "execution_count": 10,
   "metadata": {
    "vscode": {
     "languageId": "java"
    }
   },
   "outputs": [
    {
     "name": "stdout",
     "output_type": "stream",
     "text": [
      "Fibonacci Series of 12 numbers:0 1 1 2 3 5 8 13 21 34 55 89 "
     ]
    }
   ],
   "source": [
    "\n",
    "public class fibonacciWhileLoop {\n",
    "\tpublic static void main(String[] args) \n",
    "\t{\n",
    "\t\t int greatestValue = 12, smallestValue = 0, nextValue = 1;\n",
    "\t        System.out.print(\"Fibonacci Series of \"+greatestValue+\" numbers:\");\n",
    " \n",
    "\t        int i=1;\n",
    "\t        while(i <= greatestValue)\n",
    "\t        {\n",
    "\t            System.out.print(smallestValue+\" \");\n",
    "\t            int sum = smallestValue + nextValue;\n",
    "\t            smallestValue = nextValue;\n",
    "\t            nextValue = sum;\n",
    "\t            i++;\n",
    "\t        }\n",
    " \n",
    "\t}\n",
    " \n",
    "}\n",
    "fibonacciWhileLoop.main(null);"
   ]
  },
  {
   "cell_type": "markdown",
   "metadata": {},
   "source": [
    "## Fibonacci Recursion Loop"
   ]
  },
  {
   "cell_type": "code",
   "execution_count": 12,
   "metadata": {
    "vscode": {
     "languageId": "java"
    }
   },
   "outputs": [
    {
     "name": "stdout",
     "output_type": "stream",
     "text": [
      "Fibonacci Series of 12 numbers: 0 1 1 2 3 5 8 13 21 34 55 89 "
     ]
    }
   ],
   "source": [
    "\n",
    "public class fibonacciRecursionLoop{\n",
    "\tpublic static int fibonacciLoop(int n){\n",
    "\tif(n == 0){\n",
    "\t\treturn 0;\n",
    "\t}\n",
    "\tif(n == 1 || n == 2){\n",
    "\t\t\treturn 1;\n",
    "\t\t}\n",
    "\treturn fibonacciLoop(n-2) + fibonacciLoop(n-1);\n",
    "\t}\n",
    "    public static void main(String args[]) {\n",
    "\tint greatestValue = 12;\n",
    "\tSystem.out.print(\"Fibonacci Series of \"+greatestValue+\" numbers: \");\n",
    "\tfor(int i = 0; i < greatestValue; i++){\n",
    "\t\t\tSystem.out.print(fibonacciLoop(i) +\" \");\n",
    "\t\t}\n",
    "\t}\n",
    "}\n",
    "fibonacciRecursionLoop.main(null);"
   ]
  }
 ],
 "metadata": {
  "kernelspec": {
   "display_name": "Java",
   "language": "java",
   "name": "java"
  },
  "language_info": {
   "codemirror_mode": "java",
   "file_extension": ".jshell",
   "mimetype": "text/x-java-source",
   "name": "Java",
   "pygments_lexer": "java",
   "version": "18.0.2+0"
  },
  "orig_nbformat": 4
 },
 "nbformat": 4,
 "nbformat_minor": 2
}
