{
 "cells": [
  {
   "cell_type": "code",
   "execution_count": 2,
   "id": "edb2258a-62aa-41cb-b4ad-fb20d23b2793",
   "metadata": {
    "vscode": {
     "languageId": "java"
    }
   },
   "outputs": [
    {
     "name": "stdout",
     "output_type": "stream",
     "text": [
      "Enter a double, 0 to exit: 10\n",
      "Enter a double, 0 to exit: 10\n",
      "Enter a double, 0 to exit: 10\n",
      "Enter a double, 0 to exit: Not an Integer (form like 9), java.util.InputMismatchException\n",
      "Enter a double, 0 to exit: 0\n",
      "Enter a double, 0 to exit: 0\n",
      "Enter a double, 0 to exit: 0\n",
      "Enter a double, 0 to exit: 0\n",
      "Enter a double, 0 to exit: 0\n",
      "Enter a double, 0 to exit: 0\n",
      "Enter a double, 0 to exit: 0\n",
      "Enter a double, 0 to exit: "
     ]
    }
   ],
   "source": [
    "//A triple-double is achieved when a player has double-digit stats (at least 10) in all the categories(points, assists, rebounds).\n",
    "public class BasketballStatsTripleDouble {\n",
    "    ArrayList<Integer> points;\n",
    "    ArrayList<Integer> assists;\n",
    "    ArrayList<Integer> rebounds;\n",
    "    int games;\n",
    "\n",
    "    \n",
    "    public BasketballStatsTripleDouble() {\n",
    "        this.points = new ArrayList<>();\n",
    "        this.enterPoints();\n",
    "        this.assists = new ArrayList<>();\n",
    "        this.enterAssists();\n",
    "        this.rebounds = new ArrayList<>();\n",
    "        this.enterRebounds();\n",
    "    }\n",
    "    private void enterPoints() {\n",
    "        Scanner input;\n",
    "\n",
    "        while (true) {\n",
    "            input = new Scanner(System.in);\n",
    "            System.out.print(\"Enter a Integer, 0 to exit: \");\n",
    "            try {\n",
    "                int pointsScored = input.nextInt();\n",
    "                System.out.println(pointsScored);      \n",
    "                this.points.add(pointsScored);    \n",
    "            } catch (Exception e) {  \n",
    "                System.out.println(\"Not an Integer (form like 9), \" + e);\n",
    "            }\n",
    "            input.close();\n",
    "        }\n",
    "    }\n",
    "    private void enterAssists() {\n",
    "        Scanner input;\n",
    "\n",
    "        while (true) {\n",
    "            input = new Scanner(System.in);\n",
    "            System.out.print(\"Enter a Integer, 0 to exit: \");\n",
    "            try {\n",
    "                int assistsTallied = input.nextInt();\n",
    "                System.out.println(assistsTallied);      \n",
    "                this.assists.add(assistsTallied);    \n",
    "            } catch (Exception e) {  \n",
    "                System.out.println(\"Not an Integer (form like 9), \" + e);\n",
    "            }\n",
    "            input.close();\n",
    "        }\n",
    "    }\n",
    "    private void enterRebounds() {\n",
    "        Scanner input;\n",
    "\n",
    "        while (true) {\n",
    "            input = new Scanner(System.in);\n",
    "            System.out.print(\"Enter Number of Rebounds, 0 to exit: \");\n",
    "            try {\n",
    "                int reboundsTallied = input.nextInt();\n",
    "                System.out.println(reboundsTallied);      \n",
    "                this.rebounds.add(reboundsTallied);    \n",
    "            } catch (Exception e) {  \n",
    "                System.out.println(\"Not A Valid Number (form like 9), \" + e);\n",
    "            }\n",
    "            input.close();\n",
    "        }\n",
    "    }\n",
    "    private void enterGames() {\n",
    "        Scanner input;\n",
    "\n",
    "        input = new Scanner(System.in);\n",
    "        System.out.print(\"Enter a Integer, 0 to exit: \");\n",
    "        try {\n",
    "            int games = input.nextInt();\n",
    "            System.out.println(games);         \n",
    "        } catch (Exception e) {  \n",
    "            System.out.println(\"Not an Integer (form like 9), \" + e);\n",
    "        }\n",
    "        input.close();\n",
    "        this.games = games;\n",
    "    }\n",
    "    public int getNumberOfTripleDoubles() {\n",
    "        int numberOfTripleDoubles = 0;  \n",
    "        for (int x=0; x<this.games; x++) {\n",
    "           int p = this.points.get(x);\n",
    "           int a = this.assists.get(x);\n",
    "           int r = this.rebounds.get(x);\n",
    "           if (tripleDouble(p,a,r)==true) {\n",
    "            System.out.println (\"In game\" + (x+1) + \"you achieved a triple double\");\n",
    "                numberOfTripleDoubles++;\n",
    "               }\n",
    "        }\n",
    "        return (numberOfTripleDoubles);  \n",
    "    }\n",
    "    private boolean tripleDouble(int points, int assists, int rebounds) {\n",
    "        if(points >= 10 && assists >= 10 && rebounds >= 10) {\n",
    "            return true;\n",
    "        }\n",
    "        return false;\n",
    "    }\n",
    "    public static void main(String[] args) {\n",
    "        BasketballStatsTripleDouble stats = new BasketballStatsTripleDouble(); \n",
    "        System.out.println(\"Number of Triple Doubles \" + String.format(\"%.2f\", stats.getNumberOfTripleDoubles())); \n",
    "    }\n",
    "        \n",
    "}\n",
    "BasketballStatsTripleDouble.main(null);\n",
    "\n"
   ]
  },
  {
   "cell_type": "code",
   "execution_count": null,
   "id": "146b8e7e-edee-41e0-a8e5-86ddd58c7d19",
   "metadata": {
    "vscode": {
     "languageId": "java"
    }
   },
   "outputs": [],
   "source": []
  },
  {
   "cell_type": "code",
   "execution_count": null,
   "id": "e77fba52-b92d-4a03-a3d1-321214e0c612",
   "metadata": {
    "vscode": {
     "languageId": "java"
    }
   },
   "outputs": [],
   "source": []
  },
  {
   "cell_type": "code",
   "execution_count": null,
   "id": "cd3120f0-067e-427a-b632-bacc202544ab",
   "metadata": {
    "vscode": {
     "languageId": "java"
    }
   },
   "outputs": [],
   "source": []
  },
  {
   "cell_type": "code",
   "execution_count": null,
   "id": "96ae4f7d-b48a-48d6-9696-c1ccc40d9584",
   "metadata": {
    "vscode": {
     "languageId": "java"
    }
   },
   "outputs": [],
   "source": []
  },
  {
   "cell_type": "code",
   "execution_count": null,
   "id": "f5a03e49-be5e-4cb4-81e9-f144fbc8ac2a",
   "metadata": {
    "vscode": {
     "languageId": "java"
    }
   },
   "outputs": [],
   "source": []
  },
  {
   "cell_type": "code",
   "execution_count": null,
   "id": "2d508a5f-e888-4029-afdf-b97cab07330b",
   "metadata": {
    "vscode": {
     "languageId": "java"
    }
   },
   "outputs": [],
   "source": []
  },
  {
   "cell_type": "code",
   "execution_count": null,
   "id": "55680aef-fe04-4699-970f-a1b26ef4e9c6",
   "metadata": {
    "vscode": {
     "languageId": "java"
    }
   },
   "outputs": [],
   "source": []
  }
 ],
 "metadata": {
  "kernelspec": {
   "display_name": "Java",
   "language": "java",
   "name": "java"
  },
  "language_info": {
   "codemirror_mode": "java",
   "file_extension": ".jshell",
   "mimetype": "text/x-java-source",
   "name": "Java",
   "pygments_lexer": "java",
   "version": "18.0.2+0"
  }
 },
 "nbformat": 4,
 "nbformat_minor": 5
}
