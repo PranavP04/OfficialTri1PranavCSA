{
 "cells": [
  {
   "cell_type": "code",
   "execution_count": 1,
   "id": "ef4c1ad8",
   "metadata": {
    "vscode": {
     "languageId": "java"
    }
   },
   "outputs": [
    {
     "name": "stdout",
     "output_type": "stream",
     "text": [
      "Integer Example: 94\n",
      "Double Example: 100.4\n",
      "Boolean Example: false\n",
      "String Example: Argentina winning the world cup!\n",
      "Formal String Example: Lionel Messi along with the Argentinian National Team are the favorites for this World Cup\n"
     ]
    }
   ],
   "source": [
    "public class PrimitiveExamples {\n",
    "    public static void main(String[] args) {\n",
    "      int exampleInt = 94;\n",
    "      double exampleDouble = 100.4;\n",
    "      boolean exampleBoolean = false;\n",
    "\n",
    "\n",
    "      String exampleString = \"Argentina winning the world cup!\";   \n",
    "      String exampleStringFormal = new String(\"Lionel Messi along with the Argentinian National Team are the favorites for this World Cup\");\n",
    "  \n",
    "      System.out.println(\"Integer Example: \" + exampleInt);\n",
    "      System.out.println(\"Double Example: \" + exampleDouble);\n",
    "      System.out.println(\"Boolean Example: \" + exampleBoolean);\n",
    "      System.out.println(\"String Example: \" + exampleString);\n",
    "      System.out.println(\"Formal String Example: \" + exampleStringFormal);\n",
    "    }\n",
    "  }\n",
    "  PrimitiveExamples.main(null)"
   ]
  },
  {
   "cell_type": "code",
   "execution_count": 4,
   "id": "72c02161",
   "metadata": {
    "vscode": {
     "languageId": "java"
    }
   },
   "outputs": [
    {
     "name": "stdout",
     "output_type": "stream",
     "text": [
      "Type An Integer: 5\n",
      "5\n",
      "Type A Double: 10.7\n",
      "10.7\n",
      "Type A Boolean: true\n",
      "true\n",
      "Type A String: yooooo\n",
      "yooooo\n"
     ]
    }
   ],
   "source": [
    "\n",
    "import java.util.Scanner;\n",
    "\n",
    "\n",
    "public class PranavPrimitivesExamples {\n",
    "    public static void main(String[] args) {    \n",
    "        Scanner input;\n",
    "\n",
    "       \n",
    "        input = new Scanner(System.in);\n",
    "        System.out.print(\"Type An Integer: \");\n",
    "        try {\n",
    "            int PersonInt = input.nextInt();\n",
    "            System.out.println(PersonInt);\n",
    "        } catch (Exception e) {  \n",
    "            System.out.println(\"This Isn't An Integer (form like 159), \" + e);\n",
    "        }\n",
    "        input.close();\n",
    "\n",
    "        \n",
    "        input = new Scanner(System.in);\n",
    "        System.out.print(\"Type A Double: \");\n",
    "        try {\n",
    "            double PersonDouble = input.nextDouble();\n",
    "            System.out.println(PersonDouble);\n",
    "        } catch (Exception e) {  \n",
    "            System.out.println(\"This Isn't A Double (form like 9.99), \" + e);\n",
    "        }\n",
    "        input.close();\n",
    "\n",
    "        \n",
    "        input =  new Scanner(System.in);\n",
    "        System.out.print(\"Type A Boolean: \");\n",
    "        try {\n",
    "            boolean PersonBoolean = input.nextBoolean();\n",
    "            System.out.println(PersonBoolean);\n",
    "        } catch (Exception e) { \n",
    "            System.out.println(\"This Isn't A Boolean (true or false), \" + e);\n",
    "        }\n",
    "        input.close();\n",
    "\n",
    "        \n",
    "        input =  new Scanner(System.in);\n",
    "        System.out.print(\"Type A String: \");\n",
    "        try {\n",
    "            String PersonString = input.nextLine();\n",
    "            System.out.println(PersonString);\n",
    "        } catch (Exception e) { \n",
    "            System.out.println(\"This Isn't A String, \" + e);\n",
    "        }\n",
    "        input.close();\n",
    "    }\n",
    "}\n",
    "PranavPrimitivesExamples.main(null);\n"
   ]
  },
  {
   "cell_type": "markdown",
   "id": "6658aa3b",
   "metadata": {},
   "source": [
    "##### "
   ]
  },
  {
   "cell_type": "code",
   "execution_count": 6,
   "id": "526799d2",
   "metadata": {
    "vscode": {
     "languageId": "java"
    }
   },
   "outputs": [
    {
     "name": "stdout",
     "output_type": "stream",
     "text": [
      "Division For Integers\n",
      "int output with concatenation: 9/3 = 3\n",
      "int output with format: 9/3 = 3\n",
      "\tint output with printf: 9/3 = 3\n",
      "Division For Doubles\n",
      "\tdouble output with concatenation: 9.0/3.0 = 3.0\n",
      "\tdouble output with format: 9.00/3.00 = 3.00\n",
      "\tdouble output with printf: 9.00/3.00 = 3.00\n",
      "Casting and Remainders\n",
      "\tint cast to double on division: 9/3 = 3.00\n",
      "\tint using modulo for remainder: 9/3 = 3 remainder 0\n"
     ]
    }
   ],
   "source": [
    "public class PranavPrimitiveDivision {\n",
    "    public static void main(String[] args) {\n",
    "        int b1 = 9, b2 = 3;\n",
    "        System.out.println(\"Division For Integers\");\n",
    "        System.out.println(\"int output with concatenation: \" + b1 + \"/\" + b2 + \" = \" + b1/b2);\n",
    "        System.out.println(String.format(\"int output with format: %d/%d = %d\",b1, b2, b1/b2));\n",
    "        System.out.printf(\"\\tint output with printf: %d/%d = %d\\n\",b1, b2, b1/b2);\n",
    "\n",
    "        double c1 = 9, c2 = 3;\n",
    "        System.out.println(\"Division For Doubles\");\n",
    "        System.out.println(\"\\tdouble output with concatenation: \" + c1 + \"/\" + c2 + \" = \" + c1/c2);\n",
    "        System.out.println(String.format(\"\\tdouble output with format: %.2f/%.2f = %.2f\",c1, c2, c1/c2));\n",
    "        System.out.printf(\"\\tdouble output with printf: %.2f/%.2f = %.2f\\n\",c1, c2, c1/c2);\n",
    "\n",
    "        System.out.println(\"Casting and Remainders\");\n",
    "        System.out.printf(\"\\tint cast to double on division: %d/%d = %.2f\\n\",b1, b2, b1/(double)b2);\n",
    "        System.out.println(\"\\tint using modulo for remainder: \" + b1 + \"/\" + b2 + \" = \" + b1/b2 + \" remainder \" + b1%b2);\n",
    "    }\n",
    "}\n",
    "PranavPrimitiveDivision.main(null);"
   ]
  },
  {
   "cell_type": "code",
   "execution_count": 3,
   "id": "c0574631",
   "metadata": {
    "vscode": {
     "languageId": "java"
    }
   },
   "outputs": [
    {
     "name": "stdout",
     "output_type": "stream",
     "text": [
      "Enter a double, 0 to exit: "
     ]
    },
    {
     "name": "stdout",
     "output_type": "stream",
     "text": [
      " 10.5\n"
     ]
    },
    {
     "name": "stdout",
     "output_type": "stream",
     "text": [
      "10.5\n",
      "Enter a double, 0 to exit: "
     ]
    },
    {
     "name": "stdout",
     "output_type": "stream",
     "text": [
      " 11\n"
     ]
    },
    {
     "name": "stdout",
     "output_type": "stream",
     "text": [
      "11.0\n",
      "Enter a double, 0 to exit: "
     ]
    },
    {
     "name": "stdout",
     "output_type": "stream",
     "text": [
      " 12.3\n"
     ]
    },
    {
     "name": "stdout",
     "output_type": "stream",
     "text": [
      "12.3\n",
      "Enter a double, 0 to exit: "
     ]
    },
    {
     "name": "stdout",
     "output_type": "stream",
     "text": [
      " 14.5\n"
     ]
    },
    {
     "name": "stdout",
     "output_type": "stream",
     "text": [
      "14.5\n",
      "Enter a double, 0 to exit: "
     ]
    },
    {
     "name": "stdout",
     "output_type": "stream",
     "text": [
      " 55.5\n"
     ]
    },
    {
     "name": "stdout",
     "output_type": "stream",
     "text": [
      "55.5\n",
      "Enter a double, 0 to exit: "
     ]
    },
    {
     "name": "stdout",
     "output_type": "stream",
     "text": [
      " 65.6\n"
     ]
    },
    {
     "name": "stdout",
     "output_type": "stream",
     "text": [
      "65.6\n",
      "Enter a double, 0 to exit: "
     ]
    },
    {
     "name": "stdout",
     "output_type": "stream",
     "text": [
      " 0\n"
     ]
    },
    {
     "name": "stdout",
     "output_type": "stream",
     "text": [
      "0.0\n",
      "Average: 28.23\n"
     ]
    }
   ],
   "source": [
    "public class PranavSchoolGradeCalculator {\n",
    "    \n",
    "    ArrayList<Double> grades;   \n",
    "\n",
    "    \n",
    "    public PranavSchoolGradeCalculator() {\n",
    "        this.grades = new ArrayList<>();\n",
    "        this.enterGrades();\n",
    "    }\n",
    "\n",
    "    \n",
    "    private boolean isZero(double value){\n",
    "        double threshold = 0.001;\n",
    "        return value >= -threshold && value <= threshold;\n",
    "    }\n",
    "\n",
    "\n",
    "  \n",
    "    private void enterGrades() {\n",
    "        Scanner input;\n",
    "\n",
    "        while (true) {\n",
    "            input = new Scanner(System.in);\n",
    "            System.out.print(\"Enter a double, 0 to exit: \");\n",
    "            try {\n",
    "                double sampleInputDouble = input.nextDouble();\n",
    "                System.out.println(sampleInputDouble);\n",
    "                if (isZero(sampleInputDouble)) break;      \n",
    "                else this.grades.add(sampleInputDouble);    \n",
    "            } catch (Exception e) {  \n",
    "                System.out.println(\"Not an double (form like 9.99), \" + e);\n",
    "            }\n",
    "            input.close();\n",
    "        }\n",
    "    }\n",
    "\n",
    "    \n",
    "    public double average() {\n",
    "        double total = 0;  \n",
    "        for (double num : this.grades) {    \n",
    "            total += num;  \n",
    "        }\n",
    "        return (total / this.grades.size());  \n",
    "    }\n",
    "\n",
    "  \n",
    "    public static void main(String[] args) {\n",
    "        PranavSchoolGradeCalculator grades = new PranavSchoolGradeCalculator(); \n",
    "        System.out.println(\"Average: \" + String.format(\"%.2f\", grades.average())); \n",
    "    }\n",
    "}\n",
    "\n",
    "PranavSchoolGradeCalculator.main(null);"
   ]
  },
  {
   "cell_type": "code",
   "execution_count": null,
   "id": "869347ca",
   "metadata": {
    "vscode": {
     "languageId": "java"
    }
   },
   "outputs": [],
   "source": [
    "public class PranavSchoolGradeCalculator {\n",
    "    \n",
    "    ArrayList<Double> grades;   \n",
    "\n",
    "    \n",
    "    public PranavSchoolGradeCalculator() {\n",
    "        this.grades = new ArrayList<>();\n",
    "        this.enterGrades();\n",
    "    }\n",
    "\n",
    "    \n",
    "    private boolean isZero(double value){\n",
    "        double threshold = 0.001;\n",
    "        return value >= -threshold && value <= threshold;\n",
    "    }\n",
    "\n",
    "\n",
    "  \n",
    "    private void enterGrades() {\n",
    "        Scanner input;\n",
    "\n",
    "        while (true) {\n",
    "            input = new Scanner(System.in);\n",
    "            System.out.print(\"Enter a double, 0 to exit: \");\n",
    "            try {\n",
    "                double sampleInputDouble = input.nextDouble();\n",
    "                System.out.println(sampleInputDouble);\n",
    "                if (isZero(sampleInputDouble)) break;      \n",
    "                else this.grades.add(sampleInputDouble);    \n",
    "            } catch (Exception e) {  \n",
    "                System.out.println(\"Not an double (form like 9.99), \" + e);\n",
    "            }\n",
    "            input.close();\n",
    "        }\n",
    "    }\n",
    "\n",
    "    \n",
    "    public double average() {\n",
    "        double total = 0;  \n",
    "        for (double num : this.grades) {    \n",
    "            total += num;  \n",
    "        }\n",
    "        return (total / this.grades.size());  \n",
    "    }\n",
    "\n",
    "  \n",
    "    public static void main(String[] args) {\n",
    "        PranavSchoolGradeCalculator grades = new PranavSchoolGradeCalculator(); \n",
    "        System.out.println(\"Average: \" + String.format(\"%.2f\", grades.average())); \n",
    "    }\n",
    "}"
   ]
  },
  {
   "cell_type": "code",
   "execution_count": null,
   "id": "0f0a6772",
   "metadata": {
    "vscode": {
     "languageId": "java"
    }
   },
   "outputs": [],
   "source": []
  },
  {
   "cell_type": "code",
   "execution_count": null,
   "id": "78b39644",
   "metadata": {
    "vscode": {
     "languageId": "java"
    }
   },
   "outputs": [],
   "source": []
  },
  {
   "cell_type": "code",
   "execution_count": null,
   "id": "6a0278d6",
   "metadata": {
    "vscode": {
     "languageId": "java"
    }
   },
   "outputs": [],
   "source": []
  }
 ],
 "metadata": {
  "kernelspec": {
   "display_name": "Java",
   "language": "java",
   "name": "java"
  },
  "language_info": {
   "codemirror_mode": "java",
   "file_extension": ".jshell",
   "mimetype": "text/x-java-source",
   "name": "Java",
   "pygments_lexer": "java",
   "version": "18.0.2+0"
  }
 },
 "nbformat": 4,
 "nbformat_minor": 5
}
