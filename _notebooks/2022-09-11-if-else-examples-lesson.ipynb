{
 "cells": [
  {
   "cell_type": "markdown",
   "id": "dcd793cd",
   "metadata": {},
   "source": [
    "# If Statement Notes"
   ]
  },
  {
   "cell_type": "markdown",
   "id": "0e68c3bb",
   "metadata": {},
   "source": [
    "\n",
    "- A conditional statement lets us choose which\n",
    "statement will be executed next\n",
    "    • Therefore they are sometimes called selection\n",
    "statements\n",
    "    • Conditional statements give us the power to make\n",
    "basic decisions\n",
    "    • The Java conditional statements are the:\n",
    "        – if statement\n",
    "        – if-else statement\n",
    "        – switch statement\n",
    "# Boolean Notes\n",
    "- The Boolean logical operators are : | , & , ^ , ! , || , && , == , != .\n",
    "- Java supplies a primitive data type called Boolean, instances of which can take the value true or false only, and have the default value false. \n",
    "- The major use of Boolean facilities is to implement the expressions which control if decisions and while loops."
   ]
  },
  {
   "cell_type": "markdown",
   "id": "6a58476e",
   "metadata": {},
   "source": []
  },
  {
   "cell_type": "code",
   "execution_count": 4,
   "id": "fb68d98b",
   "metadata": {},
   "outputs": [
    {
     "name": "stdout",
     "output_type": "stream",
     "text": [
      "Watches 1 Soccer Game Every Weekend\n"
     ]
    }
   ],
   "source": [
    "boolean isSoccerFan = true;//If you set a variable along with the word \"boolean\" to true, \n",
    "//this allows for the if statements to print the correct statements \n",
    "if(isSoccerFan){\n",
    "    System.out.println(\"Watches 1 Soccer Game Every Weekend\");\n",
    "} else {\n",
    "    System.out.println(\"Watches 0 Soccer Games\");\n",
    "}"
   ]
  },
  {
   "cell_type": "code",
   "execution_count": 2,
   "id": "7e5327e0-359b-42ac-b7b2-48d8d1657e63",
   "metadata": {},
   "outputs": [
    {
     "name": "stdout",
     "output_type": "stream",
     "text": [
      "You Are Just Obese\n"
     ]
    }
   ],
   "source": [
    "int weight = 200;\n",
    "//Weights Are Rounded to Nearest 10(in pounds) between 130-250lbs\n",
    "if(weight==130){\n",
    "    System.out.println(\"Your Are Very Light\");\n",
    "}\n",
    "else if(weight==140){\n",
    "    System.out.println(\"Your Are Quite Light\");\n",
    "}\n",
    "else if(weight==150){\n",
    "    System.out.println(\"Your Are A Little Bit On The Lighter Side\");\n",
    "}\n",
    "else if(weight==160){\n",
    "    System.out.println(\"You Are At A Good Weight\");\n",
    "}\n",
    "else if(weight==170){\n",
    "    System.out.println(\"You Are At A Good Weight\");\n",
    "}\n",
    "else if(weight==180){\n",
    "    System.out.println(\"You Are At A Strong Weight\");\n",
    "}\n",
    "else if(weight==190){\n",
    "    System.out.println(\"You Are Very Close To Obese\");\n",
    "}\n",
    "else if(weight==200){\n",
    "    System.out.println(\"You Are Just Obese\");\n",
    "}\n",
    "else if(weight==210){\n",
    "    System.out.println(\"You Are Slightly Obese\");\n",
    "}\n",
    "else if(weight==220){\n",
    "    System.out.println(\"You Are Nearly Moderately Obese\");\n",
    "}\n",
    "else if(weight==230){\n",
    "    System.out.println(\"You Are Moderately Obese\");\n",
    "}\n",
    "else if(weight==240){\n",
    "    System.out.println(\"You Are Nearly Very Obese\");\n",
    "}\n",
    "else if(weight==250){\n",
    "    System.out.println(\"You Are Very Obese\");\n",
    "}\n",
    "\n"
   ]
  },
  {
   "cell_type": "markdown",
   "id": "104b95d9",
   "metadata": {},
   "source": [
    "# Switch Statement Notes\n",
    "- A switch statement allows a variable to be tested for equality against a list of values.\n",
    "- Each value is called a case, and the variable being switched on is checked for each case.\n",
    "- The variable used in a switch statement can only be integers, convirtable integers (byte, short, char), strings and enums.\n",
    "- You can have any number of case statements within a switch.\n",
    "- End of each statement is followed with a comparable value and a colon.\n",
    "- The value for a case must be the same data type as the variable in the switch and it must be a constant or a literal.\n",
    "- When the variable being switched on is equal to a case, the statements following that case will execute until a break statement is reached.\n",
    "- When a break statement is reached, the switch terminates, and the flow of control jumps to the next line following the switch statement."
   ]
  },
  {
   "cell_type": "code",
   "execution_count": 5,
   "id": "6a074f1f",
   "metadata": {},
   "outputs": [
    {
     "name": "stdout",
     "output_type": "stream",
     "text": [
      "You Are Just Obese\n"
     ]
    }
   ],
   "source": [
    "int weight = 200;\n",
    "//Weights Are Rounded to Nearest 10(in pounds) between 130-250lbs. Intended for indivduals between the height of 5'8 to 5'11\n",
    "switch(weight){\n",
    "    \n",
    "    case 130:\n",
    "        System.out.println(\"You are Very Light\");\n",
    "         break;\n",
    "    \n",
    "    case 140:\n",
    "        System.out.println(\"Your Are Very Light\");\n",
    "         break;\n",
    "    \n",
    "    case 150:\n",
    "        System.out.println(\"Your Are A Little Bit On The Lighter Side\");\n",
    "         break;\n",
    "\n",
    "    case 160:\n",
    "        System.out.println(\"You Are At A Good Weight\");\n",
    "         break;\n",
    "\n",
    "    case 170:\n",
    "        System.out.println(\"You Are At A Good Weight\");\n",
    "         break;\n",
    "    \n",
    "    case 180:\n",
    "        System.out.println(\"You Are At A Strong Weight\");\n",
    "         break;\n",
    "    \n",
    "    case 190:\n",
    "        System.out.println(\"You Are Very Close To Obese\");\n",
    "         break;\n",
    "    \n",
    "    case 200:\n",
    "        System.out.println(\"You Are Just Obese\");\n",
    "         break;\n",
    "\n",
    "    case 210:\n",
    "        System.out.println(\"You Are Slightly Obese\");\n",
    "         break;\n",
    "\n",
    "    case 220:\n",
    "        System.out.println(\"You Are Nearly Moderately Obese\");\n",
    "         break;\n",
    "\n",
    "    case 230:\n",
    "        System.out.println(\"You Are Moderately Obese\");\n",
    "         break;\n",
    "\n",
    "    case 240:\n",
    "         System.out.println(\"You Are Nearly Very Obese\");\n",
    "          break;\n",
    "\n",
    "    case 250:\n",
    "        System.out.println(\"You Are Very Obese\");\n",
    "         break;\n",
    "    \n",
    "    default:\n",
    "        System.out.println(\"Invalid Input\")\n",
    "         break;\n",
    "}\n"
   ]
  },
  {
   "cell_type": "markdown",
   "id": "248abd31",
   "metadata": {},
   "source": [
    "# DeMorgan's Law Notes\n",
    "- DeMorgan’s laws were developed by Augustus De Morgan in the 1800s.\n",
    "- They show how to handle the negation of a complex conditional, which is a conditional statement with more than one condition joined by an and (&&) or or (||), such as (x < 3) && (y > 2).\n",
    "- Applying DeMorgan’s Laws to !(x < 3 && y > 2) yields !(x < 3) || !(y > 2) which means that this complex conditional will be true when (x >= 3 || y <= 2).\n",
    "- The negation modifies each conditional as shown below.\n",
    "    - < becomes >=\n",
    "    - \"> becomes <=\"\n",
    "    - == becomes !=\n",
    "    - <= becomes >\n",
    "    - \">= becomes <\"\n",
    "    - != becomes ==\n",
    "- not (a and b) is the same as (not a) or (not b). In Java this is written as !(a && b) == !a || !b\n",
    "- not (a or b) is the same as (not a) and (not b). In Java this is written as !(a || b) == !a && !b"
   ]
  },
  {
   "cell_type": "code",
   "execution_count": 2,
   "id": "8d31098f",
   "metadata": {},
   "outputs": [
    {
     "name": "stdout",
     "output_type": "stream",
     "text": [
      "The boolean expression is true\n",
      "The boolean expression is false\n"
     ]
    }
   ],
   "source": [
    "public class DeMorgansLawExample {\n",
    "  public static boolean exVarOne = true;\n",
    "  public static boolean exVarTwo = false;\n",
    "\n",
    "  public static void main(String[] args) {\n",
    "    // The two boolean expressions below are equal\n",
    "    if (!(exVarOne && exVarTwo)) {\n",
    "      System.out.println(\"The boolean expression is true\");\n",
    "    } else {\n",
    "      System.out.println(\"The boolean expression is false\");\n",
    "    }\n",
    "    if (!(exVarOne || exVarTwo)) {\n",
    "      System.out.println(\"The boolean expression is true\");\n",
    "    } else {\n",
    "      System.out.println(\"The boolean expression is false\");\n",
    "    }\n",
    "  }\n",
    "}\n",
    "DeMorgansLawExample.main(null)"
   ]
  }
 ],
 "metadata": {
  "kernelspec": {
   "display_name": "Java",
   "language": "java",
   "name": "java"
  },
  "language_info": {
   "codemirror_mode": "java",
   "file_extension": ".jshell",
   "mimetype": "text/x-java-source",
   "name": "java",
   "pygments_lexer": "java",
   "version": "18.0.2+0"
  }
 },
 "nbformat": 4,
 "nbformat_minor": 5
}
