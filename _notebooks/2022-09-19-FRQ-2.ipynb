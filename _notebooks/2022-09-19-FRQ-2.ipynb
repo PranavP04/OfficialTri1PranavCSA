{
 "cells": [
  {
   "cell_type": "markdown",
   "metadata": {},
   "source": [
    "# AP CSA 2022 FRQ #2"
   ]
  },
  {
   "cell_type": "markdown",
   "metadata": {},
   "source": [
    "The Book class is used to store information about a book. A partial Book class definition is shown.\n",
    "\n",
    "You will write a class Textbook, which is a subclass of Book.\n",
    "A Textbook has an edition number, which is a positive integer used to identify different versions of the\n",
    "book. The getBookInfo method, when called on a Textbook, returns a string that also includes the\n",
    "edition information, as shown in the example.\n",
    "Information about the book title and price must be maintained in the Book class. Information about the\n",
    "edition must be maintained in the Textbook class.\n",
    "The Textbook class contains an additional method, canSubstituteFor, which returns true if\n",
    "a Textbook is a valid substitute for another Textbook and returns false otherwise. The current\n",
    "Textbook is a valid substitute for the Textbook referenced by the parameter of the\n",
    "canSubstituteFor method if the two Textbook objects have the same title and if the edition of the\n",
    "current Textbook is greater than or equal to the edition of the parameter."
   ]
  },
  {
   "cell_type": "code",
   "execution_count": 1,
   "metadata": {},
   "outputs": [
    {
     "ename": "CompilationException",
     "evalue": "",
     "output_type": "error",
     "traceback": [
      "\u001b[1m\u001b[30m|   \u001b[1m\u001b[30mpublic class Textbook extends \u001b[0m\u001b[1m\u001b[30m\u001b[41mbook\u001b[0m\u001b[1m\u001b[30m\u001b[0m",
      "\u001b[1m\u001b[31mcannot find symbol\u001b[0m",
      "\u001b[1m\u001b[31m  symbol:   class book\u001b[0m",
      "",
      "\u001b[1m\u001b[30m|   \u001b[1m\u001b[30m        return \u001b[0m\u001b[1m\u001b[30m\u001b[41msuper\u001b[0m\u001b[1m\u001b[30m.getBookInfo() + \"-\" + edition;\u001b[0m",
      "\u001b[1m\u001b[31mnon-static variable super cannot be referenced from a static context\u001b[0m",
      "",
      "\u001b[1m\u001b[30m|   \u001b[1m\u001b[30m        return \u001b[0m\u001b[1m\u001b[30m\u001b[41msuper.getBookInfo\u001b[0m\u001b[1m\u001b[30m() + \"-\" + edition;\u001b[0m",
      "\u001b[1m\u001b[31mcannot find symbol\u001b[0m",
      "\u001b[1m\u001b[31m  symbol: method getBookInfo()\u001b[0m",
      "",
      "\u001b[1m\u001b[30m|   \u001b[1m\u001b[30m        return \u001b[0m\u001b[1m\u001b[30m\u001b[41mgetTitle\u001b[0m\u001b[1m\u001b[30m().equals(other.getTitle()) && this.edition >= other.getEdition();\u001b[0m",
      "\u001b[1m\u001b[31mcannot find symbol\u001b[0m",
      "\u001b[1m\u001b[31m  symbol:   method getTitle()\u001b[0m",
      "",
      "\u001b[1m\u001b[30m|   \u001b[1m\u001b[30m        return getTitle().equals(\u001b[0m\u001b[1m\u001b[30m\u001b[41mother.getTitle\u001b[0m\u001b[1m\u001b[30m()) && this.edition >= other.getEdition();\u001b[0m",
      "\u001b[1m\u001b[31mcannot find symbol\u001b[0m",
      "\u001b[1m\u001b[31m  symbol:   method getTitle()\u001b[0m",
      ""
     ]
    }
   ],
   "source": [
    "public class Textbook extends Book\n",
    "//Define class called textbook\n",
    "//Since we are using a super class we need to extend book\n",
    "{\n",
    "    private int edition;\n",
    "    \n",
    "    public Textbook(String t, double p, int e)\n",
    "    //Constructor called Textbook passes through parameters for title, price, and edition\n",
    "    //Each parameter has a different primative that need to be listed before hand\n",
    "    {\n",
    "        super(t, p);\n",
    "        //This helps to take care for both the title and the price\n",
    "        this.edition = e;\n",
    "    }\n",
    "    public int getEdition()\n",
    "    //By creating this public int, we can have the computer return our book title name\n",
    "    {\n",
    "        return edition;\n",
    "    }\n",
    "    public String getBookInfo()\n",
    "    {\n",
    "        return super.getBookInfo() + \"-\" + edition;\n",
    "        //This returns the title of the book, along with both the price and the edition\n",
    "    }\n",
    "    public boolean canSubstituteFor(Textbook other)\n",
    "    //canSubstituteFor means that if two books have the same title, it will access the edition number and if the current textbook edition is greater than or equal to the edition of the parameter\n",
    "    {\n",
    "        return getTitle().equals(other.getTitle()) && this.edition >= other.getEdition();\n",
    "    }\n",
    "}"
   ]
  }
 ],
 "metadata": {
  "kernelspec": {
   "display_name": "Java",
   "language": "java",
   "name": "java"
  },
  "language_info": {
   "codemirror_mode": "java",
   "file_extension": ".jshell",
   "mimetype": "text/x-java-source",
   "name": "java",
   "pygments_lexer": "java",
   "version": "18.0.2+0"
  },
  "orig_nbformat": 4
 },
 "nbformat": 4,
 "nbformat_minor": 2
}
