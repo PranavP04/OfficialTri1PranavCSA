{
 "cells": [
  {
   "cell_type": "markdown",
   "id": "20e77d3f-59a6-4289-8f01-45ec5ee2c343",
   "metadata": {},
   "source": [
    "# Bash Notebook"
   ]
  },
  {
   "cell_type": "code",
   "execution_count": 2,
   "id": "be048790-264f-426a-9047-c93fc26139a1",
   "metadata": {},
   "outputs": [
    {
     "name": "stdout",
     "output_type": "stream",
     "text": [
      "Python 3.9.12\n",
      "Python 2.7.16\n",
      "conda 4.14.0\n",
      "javac 18.0.2\n",
      "openjdk 18.0.2 2022-07-19\n",
      "OpenJDK Runtime Environment Homebrew (build 18.0.2+0)\n",
      "OpenJDK 64-Bit Server VM Homebrew (build 18.0.2+0, mixed mode, sharing)\n",
      "Selected Jupyter core packages...\n",
      "IPython          : 8.2.0\n",
      "ipykernel        : 6.9.1\n",
      "ipywidgets       : 7.6.5\n",
      "jupyter_client   : 6.1.12\n",
      "jupyter_core     : 4.9.2\n",
      "jupyter_server   : 1.13.5\n",
      "jupyterlab       : 3.3.2\n",
      "nbclient         : 0.5.13\n",
      "nbconvert        : 6.4.4\n",
      "nbformat         : 5.3.0\n",
      "notebook         : 6.4.8\n",
      "qtconsole        : 5.3.0\n",
      "traitlets        : 5.1.1\n",
      "Available kernels:\n",
      "  bash          /Users/mfcbpranav/Library/Jupyter/kernels/bash\n",
      "  java          /Users/mfcbpranav/Library/Jupyter/kernels/java\n",
      "  javascript    /Users/mfcbpranav/Library/Jupyter/kernels/javascript\n",
      "  python3       /Users/mfcbpranav/opt/anaconda3/share/jupyter/kernels/python3\n"
     ]
    }
   ],
   "source": [
    "python --version\n",
    "python2 --version\n",
    "conda --version\n",
    "javac --version\n",
    "java --version\n",
    "jupyter --version\n",
    "\n",
    "jupyter kernelspec list"
   ]
  },
  {
   "cell_type": "code",
   "execution_count": null,
   "id": "f9443ff2-c245-4808-b1d9-999232ef6a52",
   "metadata": {},
   "outputs": [],
   "source": []
  },
  {
   "cell_type": "code",
   "execution_count": null,
   "id": "56e0e60a-b2c9-4ed1-be7c-b7fb09077763",
   "metadata": {},
   "outputs": [],
   "source": []
  },
  {
   "cell_type": "code",
   "execution_count": null,
   "id": "4735e2bb-3a5c-4c98-8ba6-ecdfe7d1af9b",
   "metadata": {},
   "outputs": [],
   "source": []
  }
 ],
 "metadata": {
  "kernelspec": {
   "display_name": "Bash",
   "language": "bash",
   "name": "bash"
  },
  "language_info": {
   "codemirror_mode": "shell",
   "file_extension": ".sh",
   "mimetype": "text/x-sh",
   "name": "bash"
  }
 },
 "nbformat": 4,
 "nbformat_minor": 5
}
