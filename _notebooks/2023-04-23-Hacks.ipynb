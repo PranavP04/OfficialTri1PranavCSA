{
 "cells": [
  {
   "cell_type": "code",
   "execution_count": 24,
   "metadata": {
    "vscode": {
     "languageId": "java"
    }
   },
   "outputs": [
    {
     "name": "stdout",
     "output_type": "stream",
     "text": [
      "Boolean List:\n",
      "true\n",
      "Dogs List:\n",
      "one\n",
      "two\n",
      "three\n",
      "four\n",
      "five\n",
      "six\n",
      "seven\n",
      "eight\n",
      "nine\n",
      "ten\n",
      "String List:\n",
      "one\n",
      "two\n",
      "three\n",
      "four\n",
      "five\n",
      "six\n",
      "seven\n",
      "eight\n",
      "nine\n",
      "ten\n"
     ]
    }
   ],
   "source": [
    "// Hack 1\n",
    "import java.util.ArrayList;\n",
    "\n",
    "public class Example {\n",
    "  public static void main(String[] args) {\n",
    "    \n",
    "    // a) ArrayList that stores Boolean values\n",
    "    ArrayList<Boolean> booleanList = new ArrayList<>();\n",
    "\n",
    "    // b) ArrayList that stores Turtle Objects\n",
    "    ArrayList<String> dogsList = new ArrayList<>();\n",
    "\n",
    "    // c) ArrayList that initializes with 10 Strings\n",
    "    ArrayList<String> stringList = new ArrayList<>(10);\n",
    "    stringList.add(\"one\");\n",
    "    stringList.add(\"two\");\n",
    "    stringList.add(\"three\");\n",
    "    stringList.add(\"four\");\n",
    "    stringList.add(\"five\");\n",
    "    stringList.add(\"six\");\n",
    "    stringList.add(\"seven\");\n",
    "    stringList.add(\"eight\");\n",
    "    stringList.add(\"nine\");\n",
    "    stringList.add(\"ten\");\n",
    "    booleanList.add(true);\n",
    "\n",
    "    // Print the contents of each ArrayList\n",
    "    System.out.println(\"Boolean List:\");\n",
    "    for (Boolean b : booleanList) {\n",
    "      System.out.println(b);\n",
    "    }\n",
    "    System.out.println(\"Dogs List:\");\n",
    "    for (String b : stringList) {\n",
    "      System.out.println(b);\n",
    "    }\n",
    "    System.out.println(\"String List:\");\n",
    "    for (String s : stringList) {\n",
    "      System.out.println(s);\n",
    "    }\n",
    "  }\n",
    "}\n",
    "Example.main(null);"
   ]
  },
  {
   "cell_type": "code",
   "execution_count": 14,
   "metadata": {
    "vscode": {
     "languageId": "java"
    }
   },
   "outputs": [
    {
     "name": "stdout",
     "output_type": "stream",
     "text": [
      "ArrayList: [1, 4, 7, 12, 23]\n",
      "ArrayList: [1, 4, 7, 23]\n",
      "ArrayList: [1, 4, 9, 23]\n",
      "ArrayList: [1, 4, 9, 23, 6]\n"
     ]
    }
   ],
   "source": [
    "// Hack 2\n",
    "import java.util.ArrayList;\n",
    "\n",
    "public class Hack2 {\n",
    "    public static void main(Integer[] args) {\n",
    "        ArrayList<Integer> randomNumbers = new ArrayList<Integer>();\n",
    "        randomNumbers.add(1);\n",
    "        randomNumbers.add(4);\n",
    "        randomNumbers.add(7);\n",
    "        randomNumbers.add(12);\n",
    "        randomNumbers.add(23);\n",
    "        System.out.println(\"ArrayList: \" + randomNumbers);\n",
    "        randomNumbers.remove(3); // Removes the element at index 3 (which is 12)\n",
    "        System.out.println(\"ArrayList: \" + randomNumbers);\n",
    "        randomNumbers.set(2, 9); // Replaces the element at index 2 (which is 7) with 9\n",
    "        System.out.println(\"ArrayList: \" + randomNumbers);\n",
    "        randomNumbers.add(6);\n",
    "        System.out.println(\"ArrayList: \" + randomNumbers);\n",
    "\n",
    "\n",
    "\n",
    "\n",
    "        ;\n",
    "        ;\n",
    "        ;\n",
    "    }\n",
    "}\n",
    "Hack2.main(null);\n"
   ]
  }
 ],
 "metadata": {
  "kernelspec": {
   "display_name": "Java",
   "language": "java",
   "name": "java"
  },
  "language_info": {
   "codemirror_mode": "java",
   "file_extension": ".jshell",
   "mimetype": "text/x-java-source",
   "name": "Java",
   "pygments_lexer": "java",
   "version": "18.0.2+0"
  },
  "orig_nbformat": 4
 },
 "nbformat": 4,
 "nbformat_minor": 2
}
