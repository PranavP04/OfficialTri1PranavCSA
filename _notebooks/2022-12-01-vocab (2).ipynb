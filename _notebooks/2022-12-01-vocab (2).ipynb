{
 "cells": [
  {
   "cell_type": "markdown",
   "metadata": {},
   "source": [
    "# Vocab List 2"
   ]
  },
  {
   "cell_type": "markdown",
   "metadata": {},
   "source": [
    "# Comparing Numbers"
   ]
  },
  {
   "cell_type": "markdown",
   "metadata": {},
   "source": [
    "- To check two numbers for equality in Java, we can use the Equals() method as well as the == operator. \n",
    "- Firstly, let us set Integers. Integer val1 = new Integer(5); Integer val2 = new Integer(5); Now, to check whether they are equal or not, let us use the == operator."
   ]
  },
  {
   "cell_type": "code",
   "execution_count": 2,
   "metadata": {},
   "outputs": [],
   "source": [
    "public class Example {\n",
    "    public static void main(String[] args) {\n",
    "        int x = 20;\n",
    "        int y = 23;\n",
    "        if(x==y) {\n",
    "            System.out.println(\"Both are equal\");\n",
    "        }\n",
    "        else {\n",
    "            System.out.println(\"x and y are not equal\");\n",
    "        }\n",
    "    }\n",
    "}"
   ]
  },
  {
   "cell_type": "markdown",
   "metadata": {},
   "source": [
    "# Comparing Strings"
   ]
  },
  {
   "cell_type": "markdown",
   "metadata": {},
   "source": [
    "- The == operator, known as the equality operator, is used to compare two strings in Java.\n",
    "- Using user-defined function : Define a function to compare values with following conditions :\n",
    "    - if (string1 > string2) it returns a positive value.\n",
    "    - if both the strings are equal lexicographically\n",
    "    - i.e.(string1 == string2) it returns 0.\n",
    "    - if (string1 < string2) it returns a negative value."
   ]
  },
  {
   "cell_type": "code",
   "execution_count": 6,
   "metadata": {},
   "outputs": [],
   "source": [
    "public class StringComp {\n",
    "    public static void main(String[] args) {\n",
    "        String s1 = \"hello\";\n",
    "        String s2 = \"hello\";\n",
    "        String s3 = new String(\"hello\");\n",
    "\n",
    "        System.out.println(s1 ==s2);\n",
    "        System.out.println(s1 ==s3);\n",
    "    }\n",
    "}"
   ]
  },
  {
   "cell_type": "markdown",
   "metadata": {},
   "source": [
    "# Comparing Objects"
   ]
  },
  {
   "cell_type": "markdown",
   "metadata": {},
   "source": [
    "- Comparing objects is an essential feature of object-oriented programming languages.\n",
    "- By comparing two objects, the value of those objects isn't 1. Rather, it's their memory addresses in the stack that are different, since both objects are created using the new operator. If we assigned a to b, then we would have a different result\n",
    "- In Java, the == operator compares that two references are identical or not. Whereas the equals() method compares two objects. "
   ]
  },
  {
   "cell_type": "code",
   "execution_count": 7,
   "metadata": {},
   "outputs": [],
   "source": [
    "public class Netflix {\n",
    "    public static void main(String[] args) {\n",
    "        String s1 = \"name\";\n",
    "        String s2 = \"name\";\n",
    "        if(s1 == (s2)) {\n",
    "            System.out.println(s1);\n",
    "        }\n",
    "    }\n",
    "}"
   ]
  },
  {
   "cell_type": "markdown",
   "metadata": {},
   "source": [
    "# For Loop"
   ]
  },
  {
   "cell_type": "markdown",
   "metadata": {},
   "source": [
    "- A for loop is a repetition control structure that allows you to efficiently write a loop that needs to be executed a specific number of times.\n",
    "- A for loop is useful when you know how many times a task is to be repeated.\n"
   ]
  },
  {
   "cell_type": "code",
   "execution_count": 10,
   "metadata": {},
   "outputs": [],
   "source": [
    "public class Vehicles {\n",
    "    public static void main(String[] args) {\n",
    "        String[] cars = {\"Audi\", \"BMW\", \"Nissan\"};\n",
    "        for(String car : cars);\n",
    "    }\n",
    "}"
   ]
  },
  {
   "cell_type": "markdown",
   "metadata": {},
   "source": [
    "# While Loop"
   ]
  },
  {
   "cell_type": "markdown",
   "metadata": {},
   "source": [
    "- The Java while loop is used to iterate a part of the program repeatedly until the specified Boolean condition is true. \n",
    "- As soon as the Boolean condition becomes false, the loop automatically stops. \n",
    "- The while loop is considered as a repeating if statement.\n"
   ]
  },
  {
   "cell_type": "code",
   "execution_count": 12,
   "metadata": {},
   "outputs": [],
   "source": [
    "class WhileLoop {\n",
    "    public static void main(String[] args) {\n",
    "        int i = 1;\n",
    "        while(i <= 6) {\n",
    "            System.out.println(i);\n",
    "            i++;\n",
    "        }\n",
    "    }\n",
    "}"
   ]
  },
  {
   "cell_type": "markdown",
   "metadata": {},
   "source": [
    "# Nested Loops"
   ]
  },
  {
   "cell_type": "markdown",
   "metadata": {},
   "source": [
    "- A nested loop is a (inner) loop that appears in the loop body of another (outer) loop.\n",
    "- The inner or outer loop can be any type: while, do while, or for.\n",
    "- For example, the inner loop can be a while loop while an outer loop can be a for loop."
   ]
  },
  {
   "cell_type": "code",
   "execution_count": 13,
   "metadata": {},
   "outputs": [
    {
     "name": "stdout",
     "output_type": "stream",
     "text": [
      "0 0\n",
      "0 1\n",
      "\n",
      "1 0\n",
      "1 1\n",
      "\n",
      "2 0\n",
      "2 1\n",
      "\n"
     ]
    }
   ],
   "source": [
    "for (int i = 0; i < 3; i++) {\n",
    "    for(int j = 0; j < 2; j++)\n",
    "        System.out.println(i + \" \" + j);\n",
    "    \n",
    "    System.out.println();\n",
    "}"
   ]
  },
  {
   "cell_type": "markdown",
   "metadata": {},
   "source": [
    "# How to Create a Class"
   ]
  },
  {
   "cell_type": "markdown",
   "metadata": {},
   "source": [
    "- Everything in Java is associated with classes and objects, along with its attributes and methods.\n",
    "- For example: in real life, a car is an object. The car has attributes, such as weight and color, and methods, such as drive and brake.\n",
    "- A Class is like an object constructor, or a \"blueprint\" for creating objects.\n",
    "- Classes are required in OOPs because: It provides template for creating objects, which can bind code into data. \n",
    "- It has definitions of methods and data. It supports inheritance property of Object Oriented Programming and hence can maintain class hierarchy.\n"
   ]
  },
  {
   "cell_type": "markdown",
   "metadata": {},
   "source": [
    "# Constructor"
   ]
  },
  {
   "cell_type": "markdown",
   "metadata": {},
   "source": [
    "- A constructor in Java is a special method that is used to initialize objects.\n",
    "- The constructor is called when an object of a class is created.\n",
    "- In Java, constructors can be divided into 3 types: No-Arg Constructor. Parameterized Constructor. Default Constructor."
   ]
  },
  {
   "cell_type": "code",
   "execution_count": 14,
   "metadata": {},
   "outputs": [],
   "source": [
    "public String getName() {\n",
    "    return name;\n",
    "}\n",
    "public static void main(String[] args) {\n",
    "    Data d = new Data(\"Java\");\n",
    "    System.out.println(d.getName());\n",
    "}"
   ]
  }
 ],
 "metadata": {
  "kernelspec": {
   "display_name": "Python 3.9.6 64-bit",
   "language": "python",
   "name": "python3"
  },
  "language_info": {
   "codemirror_mode": "java",
   "file_extension": ".jshell",
   "mimetype": "text/x-java-source",
   "name": "python",
   "pygments_lexer": "java",
   "version": "3.9.6"
  },
  "orig_nbformat": 4,
  "vscode": {
   "interpreter": {
    "hash": "aee8b7b246df8f9039afb4144a1f6fd8d2ca17a180786b69acc140d282b71a49"
   }
  }
 },
 "nbformat": 4,
 "nbformat_minor": 2
}
